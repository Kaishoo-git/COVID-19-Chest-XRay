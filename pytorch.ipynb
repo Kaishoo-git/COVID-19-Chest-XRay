{
 "cells": [
  {
   "cell_type": "markdown",
   "id": "7166b835-c780-4e68-bb10-4677dfa0249f",
   "metadata": {
    "jp-MarkdownHeadingCollapsed": true
   },
   "source": [
    "##### EDA"
   ]
  },
  {
   "cell_type": "code",
   "execution_count": 2,
   "id": "201387d4-868d-40ad-83e4-bdbe6820b8ef",
   "metadata": {},
   "outputs": [
    {
     "name": "stderr",
     "output_type": "stream",
     "text": [
      "C:\\Program Files\\Python312\\Lib\\site-packages\\torchxrayvision\\utils.py:11: TqdmExperimentalWarning: Using `tqdm.autonotebook.tqdm` in notebook mode. Use `tqdm.tqdm` instead to force console mode (e.g. in jupyter console)\n",
      "  from tqdm.autonotebook import tqdm\n"
     ]
    }
   ],
   "source": [
    "import torchxrayvision as xrv"
   ]
  },
  {
   "cell_type": "code",
   "execution_count": 3,
   "id": "4a4aeb7a-1a01-4c46-a420-0799386fa8cc",
   "metadata": {},
   "outputs": [],
   "source": [
    "d = xrv.datasets.COVID19_Dataset(imgpath=\"data/images/\", csvpath=\"data/csv/metadata.csv\")"
   ]
  },
  {
   "cell_type": "code",
   "execution_count": 4,
   "id": "5a35e671-4bba-4ba9-9075-c2ca41dad02c",
   "metadata": {},
   "outputs": [
    {
     "name": "stdout",
     "output_type": "stream",
     "text": [
      "sample image of shape (888, 882)\n",
      "dataset of length 535\n",
      "[[1024.      1015.9686  1007.93726 ... -469.83527 -477.86664 -477.86664]\n",
      " [1024.      1024.      1015.9686  ... -493.92938 -493.92938 -493.92938]\n",
      " [1024.      1024.      1015.9686  ... -501.96075 -509.99213 -509.99213]\n",
      " ...\n",
      " [1024.      1024.       983.84314 ... -172.6745  -156.61176 -148.58038]\n",
      " [1024.      1024.       983.84314 ... -252.98822 -244.95685 -244.95685]\n",
      " [1024.      1024.       983.84314 ... -437.70978 -429.6784  -421.64703]]\n"
     ]
    }
   ],
   "source": [
    "img = d[0]['img'][0]\n",
    "print(f\"sample image of shape {img.shape}\")\n",
    "print(f\"dataset of length {len(d)}\")\n",
    "print(img)"
   ]
  },
  {
   "cell_type": "markdown",
   "id": "ce4d6826-b915-4dea-b435-c8dd78be1bf9",
   "metadata": {},
   "source": [
    "##### SummaryWriter"
   ]
  },
  {
   "cell_type": "code",
   "execution_count": 1,
   "id": "937ebcf4-a73e-4cf9-8ebe-9424272b60e3",
   "metadata": {},
   "outputs": [],
   "source": [
    "from torch.utils.tensorboard import SummaryWriter\n",
    "import torchvision\n",
    "writer1 = SummaryWriter(\"logs/COVID19_train\")\n",
    "writer2 = SummaryWriter(\"logs/COVID19_test\")"
   ]
  },
  {
   "cell_type": "markdown",
   "id": "88cc4c77-27ad-43f3-9ae7-6de3d6bbff2b",
   "metadata": {},
   "source": [
    "##### Dataloader"
   ]
  },
  {
   "cell_type": "code",
   "execution_count": 2,
   "id": "b76af362-3008-44f3-b7bf-708456c4e46a",
   "metadata": {},
   "outputs": [
    {
     "name": "stderr",
     "output_type": "stream",
     "text": [
      "C:\\Users\\Hoo Kai Sng\\OneDrive - National University of Singapore\\Documents\\NUS\\CS3244\\Project\\xrayenv\\Lib\\site-packages\\torchxrayvision\\utils.py:11: TqdmExperimentalWarning: Using `tqdm.autonotebook.tqdm` in notebook mode. Use `tqdm.tqdm` instead to force console mode (e.g. in jupyter console)\n",
      "  from tqdm.autonotebook import tqdm\n"
     ]
    }
   ],
   "source": [
    "from dataLoader import *\n",
    "from torch.utils.data import DataLoader"
   ]
  },
  {
   "cell_type": "code",
   "execution_count": 3,
   "id": "f6d84b94-0153-4f41-9d82-a24252ef0cc9",
   "metadata": {},
   "outputs": [],
   "source": [
    "# train_dataset = Covid19DataSet('train', transform = 'vanilla')\n",
    "augmented_dataset = Covid19DataSet('train', transform = 'augment')\n",
    "validation_dataset = Covid19DataSet('val', transform = 'vanilla')\n",
    "test_dataset = Covid19DataSet('test', transform = 'vanilla')"
   ]
  },
  {
   "cell_type": "code",
   "execution_count": 4,
   "id": "0d1c0dfa-c1ba-4c89-8979-3abd68406f5b",
   "metadata": {},
   "outputs": [],
   "source": [
    "BATCH_SIZE = 8\n",
    "train_loader = DataLoader(dataset = augmented_dataset, batch_size = BATCH_SIZE, shuffle = True, num_workers = 4)\n",
    "validation_loader = DataLoader(dataset = validation_dataset, batch_size = BATCH_SIZE, shuffle = False, num_workers = 4)\n",
    "test_loader = DataLoader(dataset = test_dataset, batch_size = BATCH_SIZE, shuffle = False, num_workers = 4)"
   ]
  },
  {
   "cell_type": "code",
   "execution_count": 5,
   "id": "977e9a4c-4261-4184-a19e-0b7a4f439a05",
   "metadata": {},
   "outputs": [],
   "source": [
    "# from PIL import Image\n",
    "# import torchvision.transforms as transforms\n",
    "# d = xrv.datasets.COVID19_Dataset(imgpath = \"data/images/\", csvpath = \"data/csv/metadata.csv\")\n",
    "# img = d[0]['img'][0]\n",
    "# img = img + 1024\n",
    "# img = np.divide(img, 2048)\n",
    "# pil = Image.fromarray(img)\n",
    "# ld = transforms.ToTensor()\n",
    "# tensor = ld(pil)\n",
    "# compose = transforms.Compose([\n",
    "#     transforms.Resize((224,224)),\n",
    "#     transforms.RandomHorizontalFlip(p = 1),\n",
    "#     transforms.ToTensor(), \n",
    "# ])\n",
    "# tensor2 = compose(pil)\n",
    "# print(tensor2)"
   ]
  },
  {
   "cell_type": "markdown",
   "id": "bd6344a3-3de7-4c22-9297-7755e5385475",
   "metadata": {},
   "source": [
    "##### Building of model"
   ]
  },
  {
   "cell_type": "code",
   "execution_count": 6,
   "id": "fa55d2da-a081-4b63-a232-938dd10e41ff",
   "metadata": {},
   "outputs": [],
   "source": [
    "from models import *\n",
    "from torchvision import models\n",
    "from torchinfo import summary  # or use torchsummary"
   ]
  },
  {
   "cell_type": "code",
   "execution_count": 7,
   "id": "b2ac166c-42fa-4967-b09a-6a571703c124",
   "metadata": {
    "scrolled": true
   },
   "outputs": [],
   "source": [
    "model = models.resnet18(weights = 'DEFAULT')\n",
    "with torch.no_grad():\n",
    "    model.conv1.weight = nn.Parameter(model.conv1.weight.mean(dim=1, keepdim=True))\n",
    "for params in model.parameters():\n",
    "    params.requires_grad = False\n",
    "num_features = model.fc.in_features\n",
    "model.fc = nn.Linear(num_features, 1)"
   ]
  },
  {
   "cell_type": "markdown",
   "id": "b75b9d9f-b6c8-4863-b99d-2457178d706c",
   "metadata": {},
   "source": [
    "##### Training Model"
   ]
  },
  {
   "cell_type": "code",
   "execution_count": 15,
   "id": "a2c0a3bb-f7dc-49f0-8754-86a942d3d215",
   "metadata": {},
   "outputs": [],
   "source": [
    "import torch\n",
    "import torch.nn as nn\n",
    "from torch.optim import lr_scheduler\n",
    "from torch.utils.tensorboard import SummaryWriter\n",
    "import numpy as np\n",
    "import matplotlib.pyplot as plt\n",
    "import time\n",
    "import copy\n",
    "\n",
    "# Creates a tensorboard scalar at the same time\n",
    "def train_model(model, train_loader, validation_loader, writer1, writer2, epochs = 5, learning_rate = 0.1, grad_criterion = nn.BCEWithLogitsLoss()):\n",
    "    optimizer = torch.optim.Adam(model.parameters(), lr = learning_rate)\n",
    "    scheduler = lr_scheduler.ReduceLROnPlateau(optimizer, mode = 'min', factor = 0.8, patience = 1)\n",
    "    best_model, best_loss, best_acc = copy.deepcopy(model.state_dict()), 9999.9, 0.0\n",
    "    starttime = time.time()\n",
    "    \n",
    "    print(\"Training model\")\n",
    "\n",
    "    for epoch in range(epochs):\n",
    "        epoch_loss, running_correct, t_loss, v_loss, t_acc, v_acc = 0.0, 0.0, [], [], [], []\n",
    "\n",
    "        for phase in ['train', 'val']:\n",
    "            if phase == 'train':\n",
    "                model.train()\n",
    "            else:\n",
    "                model.eval()  \n",
    "        \n",
    "            target_loader = train_loader if phase == 'train' else validation_loader\n",
    "            n_total = 0\n",
    "        \n",
    "            for i, (images, labels) in enumerate(target_loader):\n",
    "\n",
    "                n_total += images.size(dim = 0)\n",
    "\n",
    "                with torch.set_grad_enabled(phase == 'train'):\n",
    "                    # forward pass\n",
    "                    y_preds = model(images)\n",
    "                    pred_labels = (torch.sigmoid(y_preds) >= 0.5)\n",
    "                    loss = grad_criterion(y_preds, labels)\n",
    "                    epoch_loss += loss.item()\n",
    "                    running_correct += (pred_labels == labels).sum().item()\n",
    "\n",
    "                    if phase == 'train':\n",
    "                        # backward prop\n",
    "                        optimizer.zero_grad()\n",
    "                        loss.backward()\n",
    "                        optimizer.step()\n",
    "\n",
    "            if phase == 'train':\n",
    "                avg_loss, avg_correct = epoch_loss / n_total, running_correct / n_total\n",
    "                t_loss.append(avg_loss)\n",
    "                t_acc.append(avg_correct)\n",
    "                # scheduler step\n",
    "                scheduler.step(epoch_loss)    \n",
    "\n",
    "            if phase == 'val':\n",
    "                avg_loss, avg_correct = epoch_loss / n_total, running_correct / n_total\n",
    "                v_loss.append(avg_loss)\n",
    "                v_acc.append(avg_correct)\n",
    "                if avg_loss < best_loss:\n",
    "                    best_loss, best_acc = avg_loss, avg_correct\n",
    "                    best_model = copy.deepcopy(model.state_dict())\n",
    "            \n",
    "        print(f\"Epoch [{epoch + 1}/{epochs}] |Training Loss: {t_loss[-1]:.4f} | Validation Loss: {v_loss[-1]:.4f}\")\n",
    "        writer1.add_scalar('loss', t_loss[-1], epoch+1)\n",
    "        writer1.add_scalar('acc', t_acc[-1], epoch+1)\n",
    "        writer2.add_scalar('loss', v_loss[-1], epoch+1)\n",
    "        writer2.add_scalar('acc', v_acc[-1], epoch+1)\n",
    "\n",
    "    writer1.close()\n",
    "    writer2.close()\n",
    "    \n",
    "    elapsedtime = time.time() - starttime\n",
    "    mins, sec = elapsedtime//60, elapsedtime%60\n",
    "    print(f\"Training completed in {mins:.0f}mins {sec:.2f}s\")\n",
    "    print(f\"Best Loss: {best_loss:.4f} | Best Accuracy: {(best_acc * 100):.0f}%\")\n",
    "\n",
    "    model.load_state_dict(best_model)\n",
    "    return model\n",
    "    \n",
    "# Creates a tensorboard AUC curve at the same time\n",
    "def get_metrics(model, test_loader, writer):\n",
    "    model.eval()\n",
    "    time_s = time.time()\n",
    "    g_lab, preds = [], []\n",
    "    with torch.no_grad():\n",
    "        tp = tn = fp = fn = t = f = n = 0\n",
    "        for j, (images, labels) in enumerate(test_loader):\n",
    "            outputs = model(images)\n",
    "            probs = torch.sigmoid(outputs)\n",
    "            y_preds = (torch.sigmoid(outputs) >= 0.5).float()\n",
    "            n += images.size(dim=0)\n",
    "            for i in range(n):\n",
    "                pred_val, label_val = y_preds[i].item(), labels[i].item()\n",
    "                tp += (pred_val == label_val == 1)\n",
    "                tn += (pred_val == label_val == 0)\n",
    "                fp += (pred_val == 1 and label_val == 0)\n",
    "                fn += (pred_val == 0 and label_val == 1)\n",
    "                f += (pred_val == 0)\n",
    "                t += (pred_val == 1)\n",
    "\n",
    "            preds.append(probs)\n",
    "            g_lab.append(labels)\n",
    "\n",
    "        j += 1\n",
    "\n",
    "        preds = torch.cat(preds, dim = 0) if len(preds) > 1 else torch.tensor(preds[0]) # These are probabilities in order to match the pr curve\n",
    "        g_lab = torch.cat(g_lab, dim = 0) if len(g_lab) > 1 else torch.tensor(labels[0])\n",
    "\n",
    "        writer.add_pr_curve('covid19', g_lab, preds, 0)\n",
    "        writer.close()\n",
    "\n",
    "    recall = tp / (tp + fn) if (tp + fn) > 0 else 0\n",
    "    prec = tp / (tp + fp) if (tp + fp) > 0 else 0\n",
    "    print(f\"Precision: {prec} | Recall: {recall} | Positives: {t} | Negatives: {f} | Total: {j}\")\n",
    "    run_time = time.time() - time_s\n",
    "    print(f\"Time taken: {run_time:.2f}s\")\n",
    "    return recall, prec, t, f, j\n",
    "\n",
    "# Note that input_tensor can be a batch of images in a tensor\n",
    "def infer(model, input_tensor):\n",
    "    model.eval()\n",
    "    outputs = model(input_tensor)\n",
    "    prob = torch.sigmoid(outputs)\n",
    "    labels = (prob >= 0.5).float()\n",
    "\n",
    "    for i in range(prob.size(dim=1)):\n",
    "        print(f\"Predicted img {i} {'positive' if labels[i].item() == 1 else 'negative'} with probability {prob[i].item():.4f}\")\n",
    "\n",
    "    return outputs\n"
   ]
  },
  {
   "cell_type": "code",
   "execution_count": 16,
   "id": "330d96e5-0438-465c-97db-2fe5e74169f4",
   "metadata": {},
   "outputs": [
    {
     "name": "stdout",
     "output_type": "stream",
     "text": [
      "Training model\n",
      "Epoch [1/5] |Training Loss: 0.3339 | Validation Loss: 1.1049\n",
      "Epoch [2/5] |Training Loss: 0.1365 | Validation Loss: 0.4400\n",
      "Epoch [3/5] |Training Loss: 0.1707 | Validation Loss: 0.6380\n",
      "Epoch [4/5] |Training Loss: 0.2988 | Validation Loss: 1.1879\n",
      "Epoch [5/5] |Training Loss: 0.2647 | Validation Loss: 0.9337\n",
      "Training completed in 5mins 33.49s\n",
      "Best Loss: 0.4400 | Best Accuracy: 329%\n"
     ]
    }
   ],
   "source": [
    "resnet_trained = train_model(model, train_loader, validation_loader, writer1, writer2)"
   ]
  },
  {
   "cell_type": "markdown",
   "id": "99370c54-0e53-47dc-9df3-0b9326b70116",
   "metadata": {},
   "source": [
    "##### Evaluation"
   ]
  },
  {
   "cell_type": "code",
   "execution_count": 17,
   "id": "f3c62619-ab8a-4046-abf0-0a2ab686d548",
   "metadata": {},
   "outputs": [
    {
     "ename": "IndexError",
     "evalue": "index 8 is out of bounds for dimension 0 with size 8",
     "output_type": "error",
     "traceback": [
      "\u001b[1;31m---------------------------------------------------------------------------\u001b[0m",
      "\u001b[1;31mIndexError\u001b[0m                                Traceback (most recent call last)",
      "Cell \u001b[1;32mIn[17], line 1\u001b[0m\n\u001b[1;32m----> 1\u001b[0m recall, prec, t, f, n \u001b[38;5;241m=\u001b[39m \u001b[43mget_metrics\u001b[49m\u001b[43m(\u001b[49m\u001b[43mresnet_trained\u001b[49m\u001b[43m,\u001b[49m\u001b[43m \u001b[49m\u001b[43mtest_loader\u001b[49m\u001b[43m,\u001b[49m\u001b[43m \u001b[49m\u001b[43mwriter1\u001b[49m\u001b[43m)\u001b[49m\n",
      "Cell \u001b[1;32mIn[15], line 94\u001b[0m, in \u001b[0;36mget_metrics\u001b[1;34m(model, test_loader, writer)\u001b[0m\n\u001b[0;32m     92\u001b[0m n \u001b[38;5;241m+\u001b[39m\u001b[38;5;241m=\u001b[39m images\u001b[38;5;241m.\u001b[39msize(dim\u001b[38;5;241m=\u001b[39m\u001b[38;5;241m0\u001b[39m)\n\u001b[0;32m     93\u001b[0m \u001b[38;5;28;01mfor\u001b[39;00m i \u001b[38;5;129;01min\u001b[39;00m \u001b[38;5;28mrange\u001b[39m(n):\n\u001b[1;32m---> 94\u001b[0m     pred_val, label_val \u001b[38;5;241m=\u001b[39m \u001b[43my_preds\u001b[49m\u001b[43m[\u001b[49m\u001b[43mi\u001b[49m\u001b[43m]\u001b[49m\u001b[38;5;241m.\u001b[39mitem(), labels[i]\u001b[38;5;241m.\u001b[39mitem()\n\u001b[0;32m     95\u001b[0m     tp \u001b[38;5;241m+\u001b[39m\u001b[38;5;241m=\u001b[39m (pred_val \u001b[38;5;241m==\u001b[39m label_val \u001b[38;5;241m==\u001b[39m \u001b[38;5;241m1\u001b[39m)\n\u001b[0;32m     96\u001b[0m     tn \u001b[38;5;241m+\u001b[39m\u001b[38;5;241m=\u001b[39m (pred_val \u001b[38;5;241m==\u001b[39m label_val \u001b[38;5;241m==\u001b[39m \u001b[38;5;241m0\u001b[39m)\n",
      "\u001b[1;31mIndexError\u001b[0m: index 8 is out of bounds for dimension 0 with size 8"
     ]
    }
   ],
   "source": [
    "recall, prec, t, f, n = get_metrics(resnet_trained, test_loader, writer1)"
   ]
  },
  {
   "cell_type": "markdown",
   "id": "266e7d31-2dbb-457f-bbc1-7a29bc0a5088",
   "metadata": {},
   "source": [
    "##### Visualisation"
   ]
  },
  {
   "cell_type": "code",
   "execution_count": null,
   "id": "dc0541c3-cc4d-4c1f-b571-888912c70240",
   "metadata": {
    "jupyter": {
     "source_hidden": true
    }
   },
   "outputs": [],
   "source": [
    "import torch\n",
    "import numpy as np\n",
    "import matplotlib.pyplot as plt\n",
    "import cv2\n",
    "import time\n",
    "\n",
    "def get_cam(model, outputs, input):\n",
    "    model.eval()\n",
    "    time_s = time.time()\n",
    "    print(\"Generating heatmap\")\n",
    "    # 1. get the gradient of the output with respect to the parameters of the model\n",
    "    outputs.backward()\n",
    "\n",
    "    # 2. get the activations of the last convolutional layer\n",
    "    activations = model.get_activations(input).detach()\n",
    "\n",
    "    # 3. pull the gradients out of the model\n",
    "    gradients = model.get_activations_gradient()\n",
    "\n",
    "    # 4. pool the gradients across the channels\n",
    "    pooled_gradients = torch.mean(gradients, dim = [0, 2, 3])\n",
    "\n",
    "\n",
    "    # 5. weight the channels by corresponding gradients\n",
    "    for i in range(activations.shape[1]):\n",
    "        activations[:, i, :, :] *= pooled_gradients[i]\n",
    "    #   average the channels of the activations\n",
    "    heatmap = torch.mean(activations, dim = 1).squeeze()\n",
    "\n",
    "    # 6. relu on top of the heatmap\n",
    "    #   expression (2) in https://arxiv.org/pdf/1610.02391.pdf\n",
    "    heatmap = np.maximum(heatmap, 0)    # Similar to calling relu\n",
    "\n",
    "    # 7. normalize the heatmap\n",
    "    heatmap /= torch.max(heatmap)\n",
    "\n",
    "    # draw the heatmap\n",
    "    plt.matshow(heatmap.squeeze())\n",
    "    run_time = time.time() - time_s\n",
    "    print(f\"Heatmap generated in {run_time:.2f}s\")\n",
    "    return heatmap\n",
    "\n",
    "def overlay_cam(heatmap, img_numpy):\n",
    "    # Convert the heatmap to a numpy array and resize to match the input image\n",
    "    heatmap = heatmap.numpy()\n",
    "    heatmap = cv2.resize(heatmap, (img_numpy.shape[1], img_numpy.shape[0]))\n",
    "    \n",
    "    # Normalize heatmap to be in range [0, 255] and apply colormap\n",
    "    heatmap = np.uint8(255 * heatmap)\n",
    "    heatmap = cv2.applyColorMap(heatmap, cv2.COLORMAP_JET)\n",
    "    \n",
    "    # Superimpose heatmap on the original image\n",
    "    superimposed_img = heatmap * 0.4 + img_numpy\n",
    "    superimposed_img = np.clip(superimposed_img, 0, 255).astype(np.uint8)\n",
    "\n",
    "    # Plot the superimposed image using matplotlib\n",
    "    plt.imshow(superimposed_img)\n",
    "    plt.axis('off')\n",
    "    plt.show()\n",
    "\n",
    "    return superimposed_img"
   ]
  },
  {
   "cell_type": "code",
   "execution_count": null,
   "id": "9aa6394d-999a-4eb0-81c7-f1a4a440b908",
   "metadata": {},
   "outputs": [],
   "source": [
    "# Model visualisation with GradCam\n",
    "sample_pred = infer(resnet_trained, sample_img)\n",
    "\n",
    "# Create heatmap using cam\n",
    "heatmap = get_cam(resnet_trained, sample_pred, sample_img)\n",
    "\n",
    "# Show image with heatmap overlay\n",
    "overlay_cam(heatmap, img_numpy)"
   ]
  },
  {
   "cell_type": "code",
   "execution_count": null,
   "id": "0380d4ff-a579-4785-8c3b-9f0c1a549338",
   "metadata": {},
   "outputs": [],
   "source": []
  }
 ],
 "metadata": {
  "kernelspec": {
   "display_name": "xrayenv",
   "language": "python",
   "name": "xrayenv"
  },
  "language_info": {
   "codemirror_mode": {
    "name": "ipython",
    "version": 3
   },
   "file_extension": ".py",
   "mimetype": "text/x-python",
   "name": "python",
   "nbconvert_exporter": "python",
   "pygments_lexer": "ipython3",
   "version": "3.12.6"
  }
 },
 "nbformat": 4,
 "nbformat_minor": 5
}
