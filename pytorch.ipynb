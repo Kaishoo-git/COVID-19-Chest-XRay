{
 "cells": [
  {
   "cell_type": "markdown",
   "id": "7166b835-c780-4e68-bb10-4677dfa0249f",
   "metadata": {
    "jp-MarkdownHeadingCollapsed": true
   },
   "source": [
    "##### EDA"
   ]
  },
  {
   "cell_type": "code",
   "execution_count": 2,
   "id": "201387d4-868d-40ad-83e4-bdbe6820b8ef",
   "metadata": {},
   "outputs": [
    {
     "name": "stderr",
     "output_type": "stream",
     "text": [
      "C:\\Program Files\\Python312\\Lib\\site-packages\\torchxrayvision\\utils.py:11: TqdmExperimentalWarning: Using `tqdm.autonotebook.tqdm` in notebook mode. Use `tqdm.tqdm` instead to force console mode (e.g. in jupyter console)\n",
      "  from tqdm.autonotebook import tqdm\n"
     ]
    }
   ],
   "source": [
    "import torchxrayvision as xrv"
   ]
  },
  {
   "cell_type": "code",
   "execution_count": 3,
   "id": "4a4aeb7a-1a01-4c46-a420-0799386fa8cc",
   "metadata": {},
   "outputs": [],
   "source": [
    "d = xrv.datasets.COVID19_Dataset(imgpath=\"data/images/\", csvpath=\"data/csv/metadata.csv\")"
   ]
  },
  {
   "cell_type": "code",
   "execution_count": 4,
   "id": "5a35e671-4bba-4ba9-9075-c2ca41dad02c",
   "metadata": {},
   "outputs": [
    {
     "name": "stdout",
     "output_type": "stream",
     "text": [
      "sample image of shape (888, 882)\n",
      "dataset of length 535\n",
      "[[1024.      1015.9686  1007.93726 ... -469.83527 -477.86664 -477.86664]\n",
      " [1024.      1024.      1015.9686  ... -493.92938 -493.92938 -493.92938]\n",
      " [1024.      1024.      1015.9686  ... -501.96075 -509.99213 -509.99213]\n",
      " ...\n",
      " [1024.      1024.       983.84314 ... -172.6745  -156.61176 -148.58038]\n",
      " [1024.      1024.       983.84314 ... -252.98822 -244.95685 -244.95685]\n",
      " [1024.      1024.       983.84314 ... -437.70978 -429.6784  -421.64703]]\n"
     ]
    }
   ],
   "source": [
    "img = d[0]['img'][0]\n",
    "print(f\"sample image of shape {img.shape}\")\n",
    "print(f\"dataset of length {len(d)}\")\n",
    "print(img)"
   ]
  },
  {
   "cell_type": "markdown",
   "id": "88cc4c77-27ad-43f3-9ae7-6de3d6bbff2b",
   "metadata": {},
   "source": [
    "##### Dataloader"
   ]
  },
  {
   "cell_type": "code",
   "execution_count": 1,
   "id": "b76af362-3008-44f3-b7bf-708456c4e46a",
   "metadata": {},
   "outputs": [
    {
     "name": "stderr",
     "output_type": "stream",
     "text": [
      "C:\\Users\\Hoo Kai Sng\\OneDrive - National University of Singapore\\Documents\\NUS\\CS3244\\Project\\xrayenv\\Lib\\site-packages\\torchxrayvision\\utils.py:11: TqdmExperimentalWarning: Using `tqdm.autonotebook.tqdm` in notebook mode. Use `tqdm.tqdm` instead to force console mode (e.g. in jupyter console)\n",
      "  from tqdm.autonotebook import tqdm\n"
     ]
    }
   ],
   "source": [
    "from dataLoader import *\n",
    "from torch.utils.data import DataLoader"
   ]
  },
  {
   "cell_type": "code",
   "execution_count": 2,
   "id": "f6d84b94-0153-4f41-9d82-a24252ef0cc9",
   "metadata": {},
   "outputs": [],
   "source": [
    "# train_dataset = Covid19DataSet('train', transform = 'vanilla')\n",
    "augmented_dataset = Covid19DataSet('train', transform = 'augment')\n",
    "validation_dataset = Covid19DataSet('val', transform = 'vanilla')\n",
    "test_dataset = Covid19DataSet('test', transform = 'vanilla')"
   ]
  },
  {
   "cell_type": "code",
   "execution_count": 3,
   "id": "0d1c0dfa-c1ba-4c89-8979-3abd68406f5b",
   "metadata": {},
   "outputs": [],
   "source": [
    "BATCH_SIZE = 16\n",
    "train_loader = DataLoader(dataset = augmented_dataset, batch_size = BATCH_SIZE, shuffle = True, num_workers = 4)\n",
    "validation_loader = DataLoader(dataset = validation_dataset, batch_size = BATCH_SIZE, shuffle = False, num_workers = 4)\n",
    "test_loader = DataLoader(dataset = test_dataset, batch_size = BATCH_SIZE, shuffle = False, num_workers = 4)"
   ]
  },
  {
   "cell_type": "code",
   "execution_count": 4,
   "id": "977e9a4c-4261-4184-a19e-0b7a4f439a05",
   "metadata": {
    "jupyter": {
     "source_hidden": true
    }
   },
   "outputs": [],
   "source": [
    "# from PIL import Image\n",
    "# import torchvision.transforms as transforms\n",
    "# d = xrv.datasets.COVID19_Dataset(imgpath = \"data/images/\", csvpath = \"data/csv/metadata.csv\")\n",
    "# img = d[0]['img'][0]\n",
    "# img = img + 1024\n",
    "# img = np.divide(img, 2048)\n",
    "# pil = Image.fromarray(img)\n",
    "# ld = transforms.ToTensor()\n",
    "# tensor = ld(pil)\n",
    "# compose = transforms.Compose([\n",
    "#     transforms.Resize((224,224)),\n",
    "#     transforms.RandomHorizontalFlip(p = 1),\n",
    "#     transforms.ToTensor(), \n",
    "# ])\n",
    "# tensor2 = compose(pil)\n",
    "# print(tensor2)"
   ]
  },
  {
   "cell_type": "markdown",
   "id": "bd6344a3-3de7-4c22-9297-7755e5385475",
   "metadata": {},
   "source": [
    "##### Building of model"
   ]
  },
  {
   "cell_type": "code",
   "execution_count": 5,
   "id": "fa55d2da-a081-4b63-a232-938dd10e41ff",
   "metadata": {},
   "outputs": [],
   "source": [
    "from models import *\n",
    "from torchvision import models\n",
    "from torchinfo import summary  # or use torchsummary"
   ]
  },
  {
   "cell_type": "code",
   "execution_count": 6,
   "id": "b2ac166c-42fa-4967-b09a-6a571703c124",
   "metadata": {
    "scrolled": true
   },
   "outputs": [],
   "source": [
    "ResNet18_Model = models.resnet18(weights = 'DEFAULT')\n",
    "# summary(ResNet18_Model, input_size=(16, 3, 224, 224), depth = 3)\n",
    "# print(ResNet18_Model)"
   ]
  },
  {
   "cell_type": "code",
   "execution_count": 7,
   "id": "ad06203a-906e-4c2a-94bf-d5ab254a6732",
   "metadata": {
    "scrolled": true
   },
   "outputs": [],
   "source": [
    "mini_model = ConvNetGlobPooling()\n",
    "# summary(model_22, (16, 1, 224, 224), depth = 3)"
   ]
  },
  {
   "cell_type": "markdown",
   "id": "b75b9d9f-b6c8-4863-b99d-2457178d706c",
   "metadata": {},
   "source": [
    "##### Training Model"
   ]
  },
  {
   "cell_type": "code",
   "execution_count": 8,
   "id": "a2c0a3bb-f7dc-49f0-8754-86a942d3d215",
   "metadata": {},
   "outputs": [],
   "source": [
    "from evaluation import *"
   ]
  },
  {
   "cell_type": "code",
   "execution_count": 9,
   "id": "e8fccfa4-6dba-4da6-8229-c27484a08c70",
   "metadata": {},
   "outputs": [
    {
     "name": "stdout",
     "output_type": "stream",
     "text": [
      "Training model...\n",
      "Epoch [1/5] |Training Loss: 0.6183 | Validation Loss: 2.7044\n",
      "Epoch [2/5] |Training Loss: 0.5661 | Validation Loss: 2.5211\n",
      "Epoch [3/5] |Training Loss: 0.5703 | Validation Loss: 2.5313\n",
      "Epoch [4/5] |Training Loss: 0.5668 | Validation Loss: 2.5193\n",
      "Epoch [5/5] |Training Loss: 0.6260 | Validation Loss: 2.7168\n",
      "Training completed in 10mins 34s\n",
      "Best Loss: 2.5193017224470773\n"
     ]
    }
   ],
   "source": [
    "globpool_model = train_model(mini_model, train_loader, validation_loader)"
   ]
  },
  {
   "cell_type": "code",
   "execution_count": 10,
   "id": "330d96e5-0438-465c-97db-2fe5e74169f4",
   "metadata": {},
   "outputs": [
    {
     "name": "stdout",
     "output_type": "stream",
     "text": [
      "Training model...\n",
      "Epoch [1/5] |Training Loss: 4.7753 | Validation Loss: 17.8786\n",
      "Epoch [2/5] |Training Loss: 1.7805 | Validation Loss: 9.7228\n",
      "Epoch [3/5] |Training Loss: 3.0484 | Validation Loss: 12.6606\n",
      "Epoch [4/5] |Training Loss: 1.4876 | Validation Loss: 5.5806\n",
      "Epoch [5/5] |Training Loss: 1.2749 | Validation Loss: 8.4158\n",
      "Training completed in 11mins 38s\n",
      "Best Loss: 5.580577251975835\n"
     ]
    }
   ],
   "source": [
    "resnet_model = retrain_model(ResNet18_Model, train_loader, validation_loader)"
   ]
  },
  {
   "cell_type": "markdown",
   "id": "99370c54-0e53-47dc-9df3-0b9326b70116",
   "metadata": {},
   "source": [
    "##### Evaluation"
   ]
  },
  {
   "cell_type": "code",
   "execution_count": 13,
   "id": "a028969c-17c1-4561-b4a2-501dcadd32f1",
   "metadata": {},
   "outputs": [
    {
     "ename": "TypeError",
     "evalue": "'collections.OrderedDict' object is not callable",
     "output_type": "error",
     "traceback": [
      "\u001b[1;31m---------------------------------------------------------------------------\u001b[0m",
      "\u001b[1;31mTypeError\u001b[0m                                 Traceback (most recent call last)",
      "Cell \u001b[1;32mIn[13], line 1\u001b[0m\n\u001b[1;32m----> 1\u001b[0m mm_prec, t, f, n \u001b[38;5;241m=\u001b[39m \u001b[43mevaluate_model\u001b[49m\u001b[43m(\u001b[49m\u001b[43mglobpool_model\u001b[49m\u001b[43m,\u001b[49m\u001b[43m \u001b[49m\u001b[43mtest_loader\u001b[49m\u001b[43m,\u001b[49m\u001b[43m \u001b[49m\u001b[38;5;124;43m'\u001b[39;49m\u001b[38;5;124;43mprec\u001b[39;49m\u001b[38;5;124;43m'\u001b[39;49m\u001b[43m)\u001b[49m \n\u001b[0;32m      2\u001b[0m mm_rec, t1, f1, n1 \u001b[38;5;241m=\u001b[39m evaluate_model(globpool_model, test_loader, \u001b[38;5;124m'\u001b[39m\u001b[38;5;124mrec\u001b[39m\u001b[38;5;124m'\u001b[39m)\n\u001b[0;32m      3\u001b[0m \u001b[38;5;28mprint\u001b[39m(t, f, n)\n",
      "Cell \u001b[1;32mIn[12], line 5\u001b[0m, in \u001b[0;36mevaluate_model\u001b[1;34m(model, test_loader, criteria)\u001b[0m\n\u001b[0;32m      3\u001b[0m tp \u001b[38;5;241m=\u001b[39m tn \u001b[38;5;241m=\u001b[39m fp \u001b[38;5;241m=\u001b[39m fn \u001b[38;5;241m=\u001b[39m t \u001b[38;5;241m=\u001b[39m f \u001b[38;5;241m=\u001b[39m \u001b[38;5;241m0\u001b[39m\n\u001b[0;32m      4\u001b[0m \u001b[38;5;28;01mfor\u001b[39;00m j, (images, labels) \u001b[38;5;129;01min\u001b[39;00m \u001b[38;5;28menumerate\u001b[39m(test_loader):\n\u001b[1;32m----> 5\u001b[0m     outputs \u001b[38;5;241m=\u001b[39m \u001b[43mmodel\u001b[49m\u001b[43m(\u001b[49m\u001b[43mimages\u001b[49m\u001b[43m)\u001b[49m\n\u001b[0;32m      6\u001b[0m     y_preds \u001b[38;5;241m=\u001b[39m (torch\u001b[38;5;241m.\u001b[39msigmoid(outputs) \u001b[38;5;241m>\u001b[39m\u001b[38;5;241m=\u001b[39m \u001b[38;5;241m0.5\u001b[39m)\u001b[38;5;241m.\u001b[39mfloat()\n\u001b[0;32m      7\u001b[0m     n \u001b[38;5;241m=\u001b[39m \u001b[38;5;28mlen\u001b[39m(y_preds)\n",
      "\u001b[1;31mTypeError\u001b[0m: 'collections.OrderedDict' object is not callable"
     ]
    }
   ],
   "source": [
    "mm_prec, t, f, n = evaluate_model(globpool_model, test_loader, 'prec') \n",
    "mm_rec, t1, f1, n1 = evaluate_model(globpool_model, test_loader, 'rec')\n",
    "print(t, f, n)\n",
    "print(f\"Mini Model: Precision = {mm_prec:.0f}% | Recall = {mm_rec:.0f}%\")"
   ]
  },
  {
   "cell_type": "code",
   "execution_count": null,
   "id": "80057581-0fca-4944-b69d-37746d720fd5",
   "metadata": {},
   "outputs": [],
   "source": [
    "resnet_prec = evaluate_model(resnet model, test_loader, 'prec') \n",
    "resnet_rec = evaluate_model(resnet_model, test_loader, 'rec')\n",
    "print(f\"Resnet18 Model: Precision = {resnet_prec:.0f}% | Recall = {resnet_rec:.0f}%\")"
   ]
  },
  {
   "cell_type": "markdown",
   "id": "266e7d31-2dbb-457f-bbc1-7a29bc0a5088",
   "metadata": {},
   "source": [
    "##### Visualisation"
   ]
  },
  {
   "cell_type": "code",
   "execution_count": null,
   "id": "a02ed6a2-a852-4e08-9aaf-441e74c69b76",
   "metadata": {},
   "outputs": [],
   "source": []
  }
 ],
 "metadata": {
  "kernelspec": {
   "display_name": "xrayenv",
   "language": "python",
   "name": "xrayenv"
  },
  "language_info": {
   "codemirror_mode": {
    "name": "ipython",
    "version": 3
   },
   "file_extension": ".py",
   "mimetype": "text/x-python",
   "name": "python",
   "nbconvert_exporter": "python",
   "pygments_lexer": "ipython3",
   "version": "3.12.6"
  }
 },
 "nbformat": 4,
 "nbformat_minor": 5
}
