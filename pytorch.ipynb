{
 "cells": [
  {
   "cell_type": "markdown",
   "id": "7166b835-c780-4e68-bb10-4677dfa0249f",
   "metadata": {
    "jp-MarkdownHeadingCollapsed": true
   },
   "source": [
    "##### EDA"
   ]
  },
  {
   "cell_type": "code",
   "execution_count": 2,
   "id": "201387d4-868d-40ad-83e4-bdbe6820b8ef",
   "metadata": {},
   "outputs": [
    {
     "name": "stderr",
     "output_type": "stream",
     "text": [
      "C:\\Program Files\\Python312\\Lib\\site-packages\\torchxrayvision\\utils.py:11: TqdmExperimentalWarning: Using `tqdm.autonotebook.tqdm` in notebook mode. Use `tqdm.tqdm` instead to force console mode (e.g. in jupyter console)\n",
      "  from tqdm.autonotebook import tqdm\n"
     ]
    }
   ],
   "source": [
    "import torchxrayvision as xrv"
   ]
  },
  {
   "cell_type": "code",
   "execution_count": 3,
   "id": "4a4aeb7a-1a01-4c46-a420-0799386fa8cc",
   "metadata": {},
   "outputs": [],
   "source": [
    "d = xrv.datasets.COVID19_Dataset(imgpath=\"data/images/\", csvpath=\"data/csv/metadata.csv\")"
   ]
  },
  {
   "cell_type": "code",
   "execution_count": 4,
   "id": "5a35e671-4bba-4ba9-9075-c2ca41dad02c",
   "metadata": {},
   "outputs": [
    {
     "name": "stdout",
     "output_type": "stream",
     "text": [
      "sample image of shape (888, 882)\n",
      "dataset of length 535\n",
      "[[1024.      1015.9686  1007.93726 ... -469.83527 -477.86664 -477.86664]\n",
      " [1024.      1024.      1015.9686  ... -493.92938 -493.92938 -493.92938]\n",
      " [1024.      1024.      1015.9686  ... -501.96075 -509.99213 -509.99213]\n",
      " ...\n",
      " [1024.      1024.       983.84314 ... -172.6745  -156.61176 -148.58038]\n",
      " [1024.      1024.       983.84314 ... -252.98822 -244.95685 -244.95685]\n",
      " [1024.      1024.       983.84314 ... -437.70978 -429.6784  -421.64703]]\n"
     ]
    }
   ],
   "source": [
    "img = d[0]['img'][0]\n",
    "print(f\"sample image of shape {img.shape}\")\n",
    "print(f\"dataset of length {len(d)}\")\n",
    "print(img)"
   ]
  },
  {
   "cell_type": "markdown",
   "id": "ce4d6826-b915-4dea-b435-c8dd78be1bf9",
   "metadata": {},
   "source": [
    "##### SummaryWriter"
   ]
  },
  {
   "cell_type": "code",
   "execution_count": 1,
   "id": "937ebcf4-a73e-4cf9-8ebe-9424272b60e3",
   "metadata": {},
   "outputs": [],
   "source": [
    "from torch.utils.tensorboard import SummaryWriter\n",
    "import torchvision\n",
    "writer1 = SummaryWriter(\"logs/COVID19_train\")\n",
    "writer2 = SummaryWriter(\"logs/COVID19_test\")"
   ]
  },
  {
   "cell_type": "markdown",
   "id": "88cc4c77-27ad-43f3-9ae7-6de3d6bbff2b",
   "metadata": {},
   "source": [
    "##### Dataloader"
   ]
  },
  {
   "cell_type": "code",
   "execution_count": 2,
   "id": "b76af362-3008-44f3-b7bf-708456c4e46a",
   "metadata": {},
   "outputs": [
    {
     "name": "stderr",
     "output_type": "stream",
     "text": [
      "C:\\Users\\Hoo Kai Sng\\OneDrive - National University of Singapore\\Documents\\NUS\\CS3244\\Project\\xrayenv\\Lib\\site-packages\\torchxrayvision\\utils.py:11: TqdmExperimentalWarning: Using `tqdm.autonotebook.tqdm` in notebook mode. Use `tqdm.tqdm` instead to force console mode (e.g. in jupyter console)\n",
      "  from tqdm.autonotebook import tqdm\n"
     ]
    }
   ],
   "source": [
    "from dataLoader import *\n",
    "from torch.utils.data import DataLoader"
   ]
  },
  {
   "cell_type": "code",
   "execution_count": 3,
   "id": "f6d84b94-0153-4f41-9d82-a24252ef0cc9",
   "metadata": {},
   "outputs": [],
   "source": [
    "# train_dataset = Covid19DataSet('train', transform = 'vanilla')\n",
    "augmented_dataset = Covid19DataSet('train', transform = 'augment')\n",
    "validation_dataset = Covid19DataSet('val', transform = 'vanilla')\n",
    "test_dataset = Covid19DataSet('test', transform = 'vanilla')"
   ]
  },
  {
   "cell_type": "code",
   "execution_count": 4,
   "id": "0d1c0dfa-c1ba-4c89-8979-3abd68406f5b",
   "metadata": {},
   "outputs": [],
   "source": [
    "BATCH_SIZE = 8\n",
    "train_loader = DataLoader(dataset = augmented_dataset, batch_size = BATCH_SIZE, shuffle = True, num_workers = 4)\n",
    "validation_loader = DataLoader(dataset = validation_dataset, batch_size = BATCH_SIZE, shuffle = False, num_workers = 4)\n",
    "test_loader = DataLoader(dataset = test_dataset, batch_size = BATCH_SIZE, shuffle = False, num_workers = 4)"
   ]
  },
  {
   "cell_type": "code",
   "execution_count": 5,
   "id": "977e9a4c-4261-4184-a19e-0b7a4f439a05",
   "metadata": {},
   "outputs": [],
   "source": [
    "# from PIL import Image\n",
    "# import torchvision.transforms as transforms\n",
    "# d = xrv.datasets.COVID19_Dataset(imgpath = \"data/images/\", csvpath = \"data/csv/metadata.csv\")\n",
    "# img = d[0]['img'][0]\n",
    "# img = img + 1024\n",
    "# img = np.divide(img, 2048)\n",
    "# pil = Image.fromarray(img)\n",
    "# ld = transforms.ToTensor()\n",
    "# tensor = ld(pil)\n",
    "# compose = transforms.Compose([\n",
    "#     transforms.Resize((224,224)),\n",
    "#     transforms.RandomHorizontalFlip(p = 1),\n",
    "#     transforms.ToTensor(), \n",
    "# ])\n",
    "# tensor2 = compose(pil)\n",
    "# print(tensor2)"
   ]
  },
  {
   "cell_type": "markdown",
   "id": "bd6344a3-3de7-4c22-9297-7755e5385475",
   "metadata": {},
   "source": [
    "##### Building of model"
   ]
  },
  {
   "cell_type": "code",
   "execution_count": 6,
   "id": "fa55d2da-a081-4b63-a232-938dd10e41ff",
   "metadata": {},
   "outputs": [],
   "source": [
    "from models import *\n",
    "from torchvision import models\n",
    "from torchinfo import summary  # or use torchsummary"
   ]
  },
  {
   "cell_type": "code",
   "execution_count": 7,
   "id": "b2ac166c-42fa-4967-b09a-6a571703c124",
   "metadata": {
    "scrolled": true
   },
   "outputs": [],
   "source": [
    "model = models.resnet18(weights = 'DEFAULT')\n",
    "with torch.no_grad():\n",
    "    model.conv1.weight = nn.Parameter(model.conv1.weight.mean(dim=1, keepdim=True))\n",
    "for params in model.parameters():\n",
    "    params.requires_grad = False\n",
    "num_features = model.fc.in_features\n",
    "model.fc = nn.Linear(num_features, 1)"
   ]
  },
  {
   "cell_type": "markdown",
   "id": "b75b9d9f-b6c8-4863-b99d-2457178d706c",
   "metadata": {},
   "source": [
    "##### Training Model"
   ]
  },
  {
   "cell_type": "code",
   "execution_count": 9,
   "id": "a2c0a3bb-f7dc-49f0-8754-86a942d3d215",
   "metadata": {},
   "outputs": [],
   "source": [
    "from evaluation import *"
   ]
  },
  {
   "cell_type": "code",
   "execution_count": 10,
   "id": "330d96e5-0438-465c-97db-2fe5e74169f4",
   "metadata": {},
   "outputs": [
    {
     "name": "stdout",
     "output_type": "stream",
     "text": [
      "Training model\n",
      "Epoch [1/5] |Training Loss: 4.6184 | Validation Loss: 15.6221\n",
      "Epoch [2/5] |Training Loss: 4.8685 | Validation Loss: 15.9815\n",
      "Epoch [3/5] |Training Loss: 3.7462 | Validation Loss: 12.6289\n",
      "Epoch [4/5] |Training Loss: 1.7689 | Validation Loss: 6.0899\n",
      "Epoch [5/5] |Training Loss: 2.6739 | Validation Loss: 8.6527\n",
      "Training completed in 5mins 45.19s\n",
      "Best Loss: 6.0899 | Best Accuracy: 2646%\n"
     ]
    }
   ],
   "source": [
    "resnet_trained = train_model(model, train_loader, validation_loader, writer1, writer2)"
   ]
  },
  {
   "cell_type": "markdown",
   "id": "99370c54-0e53-47dc-9df3-0b9326b70116",
   "metadata": {},
   "source": [
    "##### Evaluation"
   ]
  },
  {
   "cell_type": "code",
   "execution_count": 11,
   "id": "f3c62619-ab8a-4046-abf0-0a2ab686d548",
   "metadata": {},
   "outputs": [
    {
     "ename": "TypeError",
     "evalue": "cat() received an invalid combination of arguments - got (Tensor, dim=int), but expected one of:\n * (tuple of Tensors tensors, int dim = 0, *, Tensor out = None)\n * (tuple of Tensors tensors, name dim, *, Tensor out = None)\n",
     "output_type": "error",
     "traceback": [
      "\u001b[1;31m---------------------------------------------------------------------------\u001b[0m",
      "\u001b[1;31mTypeError\u001b[0m                                 Traceback (most recent call last)",
      "Cell \u001b[1;32mIn[11], line 1\u001b[0m\n\u001b[1;32m----> 1\u001b[0m recall, prec, t, f, n \u001b[38;5;241m=\u001b[39m \u001b[43mget_metrics\u001b[49m\u001b[43m(\u001b[49m\u001b[43mresnet_trained\u001b[49m\u001b[43m,\u001b[49m\u001b[43m \u001b[49m\u001b[43mtest_loader\u001b[49m\u001b[43m,\u001b[49m\u001b[43m \u001b[49m\u001b[43mwriter1\u001b[49m\u001b[43m)\u001b[49m\n\u001b[0;32m      2\u001b[0m \u001b[38;5;28mprint\u001b[39m(\u001b[38;5;124mf\u001b[39m\u001b[38;5;124m\"\u001b[39m\u001b[38;5;124mTotal Entries: \u001b[39m\u001b[38;5;132;01m{\u001b[39;00mn\u001b[38;5;132;01m}\u001b[39;00m\u001b[38;5;124m | Positive Preds: \u001b[39m\u001b[38;5;132;01m{\u001b[39;00mt\u001b[38;5;132;01m}\u001b[39;00m\u001b[38;5;124m | Negative Preds: \u001b[39m\u001b[38;5;132;01m{\u001b[39;00mf\u001b[38;5;132;01m}\u001b[39;00m\u001b[38;5;124m\"\u001b[39m)\n\u001b[0;32m      3\u001b[0m \u001b[38;5;28mprint\u001b[39m(\u001b[38;5;124mf\u001b[39m\u001b[38;5;124m\"\u001b[39m\u001b[38;5;124mFine-tuned: Precision = \u001b[39m\u001b[38;5;132;01m{\u001b[39;00mprec\u001b[38;5;132;01m:\u001b[39;00m\u001b[38;5;124m.0f\u001b[39m\u001b[38;5;132;01m}\u001b[39;00m\u001b[38;5;124m% | Recall = \u001b[39m\u001b[38;5;132;01m{\u001b[39;00mrecall\u001b[38;5;132;01m:\u001b[39;00m\u001b[38;5;124m.0f\u001b[39m\u001b[38;5;132;01m}\u001b[39;00m\u001b[38;5;124m%\u001b[39m\u001b[38;5;124m\"\u001b[39m)\n",
      "File \u001b[1;32m~\\OneDrive - National University of Singapore\\Documents\\NUS\\CS3244\\Project\\evaluation.py:104\u001b[0m, in \u001b[0;36mget_metrics\u001b[1;34m(model, test_loader, writer)\u001b[0m\n\u001b[0;32m    101\u001b[0m j \u001b[38;5;241m+\u001b[39m\u001b[38;5;241m=\u001b[39m \u001b[38;5;241m1\u001b[39m\n\u001b[0;32m    103\u001b[0m preds \u001b[38;5;241m=\u001b[39m torch\u001b[38;5;241m.\u001b[39mcat(preds, dim \u001b[38;5;241m=\u001b[39m \u001b[38;5;241m0\u001b[39m)\n\u001b[1;32m--> 104\u001b[0m labels \u001b[38;5;241m=\u001b[39m \u001b[43mtorch\u001b[49m\u001b[38;5;241;43m.\u001b[39;49m\u001b[43mcat\u001b[49m\u001b[43m(\u001b[49m\u001b[43mlabels\u001b[49m\u001b[43m,\u001b[49m\u001b[43m \u001b[49m\u001b[43mdim\u001b[49m\u001b[43m \u001b[49m\u001b[38;5;241;43m=\u001b[39;49m\u001b[43m \u001b[49m\u001b[38;5;241;43m0\u001b[39;49m\u001b[43m)\u001b[49m\n\u001b[0;32m    106\u001b[0m writer\u001b[38;5;241m.\u001b[39madd_pr_curve(\u001b[38;5;124m'\u001b[39m\u001b[38;5;124mcovid19\u001b[39m\u001b[38;5;124m'\u001b[39m, g_lab, preds, \u001b[38;5;241m0\u001b[39m)\n\u001b[0;32m    107\u001b[0m writer\u001b[38;5;241m.\u001b[39mclose()\n",
      "\u001b[1;31mTypeError\u001b[0m: cat() received an invalid combination of arguments - got (Tensor, dim=int), but expected one of:\n * (tuple of Tensors tensors, int dim = 0, *, Tensor out = None)\n * (tuple of Tensors tensors, name dim, *, Tensor out = None)\n"
     ]
    }
   ],
   "source": [
    "recall, prec, t, f, n = get_metrics(resnet_trained, test_loader, writer1)\n",
    "print(f\"Total Entries: {n} | Positive Preds: {t} | Negative Preds: {f}\")\n",
    "print(f\"Fine-tuned: Precision = {prec:.0f}% | Recall = {recall:.0f}%\")"
   ]
  },
  {
   "cell_type": "markdown",
   "id": "266e7d31-2dbb-457f-bbc1-7a29bc0a5088",
   "metadata": {},
   "source": [
    "##### Visualisation"
   ]
  },
  {
   "cell_type": "code",
   "execution_count": null,
   "id": "dc0541c3-cc4d-4c1f-b571-888912c70240",
   "metadata": {},
   "outputs": [],
   "source": [
    "from explain import *"
   ]
  },
  {
   "cell_type": "code",
   "execution_count": null,
   "id": "9aa6394d-999a-4eb0-81c7-f1a4a440b908",
   "metadata": {},
   "outputs": [],
   "source": [
    "# Model visualisation with GradCam\n",
    "sample_pred = infer(resnet_trained, sample_img)\n",
    "\n",
    "# Create heatmap using cam\n",
    "heatmap = get_cam(resnet_trained, sample_pred, sample_img)\n",
    "\n",
    "# Show image with heatmap overlay\n",
    "overlay_cam(heatmap, img_numpy)"
   ]
  },
  {
   "cell_type": "code",
   "execution_count": null,
   "id": "0380d4ff-a579-4785-8c3b-9f0c1a549338",
   "metadata": {},
   "outputs": [],
   "source": []
  }
 ],
 "metadata": {
  "kernelspec": {
   "display_name": "xrayenv",
   "language": "python",
   "name": "xrayenv"
  },
  "language_info": {
   "codemirror_mode": {
    "name": "ipython",
    "version": 3
   },
   "file_extension": ".py",
   "mimetype": "text/x-python",
   "name": "python",
   "nbconvert_exporter": "python",
   "pygments_lexer": "ipython3",
   "version": "3.12.6"
  }
 },
 "nbformat": 4,
 "nbformat_minor": 5
}
