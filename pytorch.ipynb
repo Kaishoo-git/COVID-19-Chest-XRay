{
 "cells": [
  {
   "cell_type": "markdown",
   "id": "7166b835-c780-4e68-bb10-4677dfa0249f",
   "metadata": {
    "jp-MarkdownHeadingCollapsed": true
   },
   "source": [
    "##### EDA"
   ]
  },
  {
   "cell_type": "code",
   "execution_count": 2,
   "id": "201387d4-868d-40ad-83e4-bdbe6820b8ef",
   "metadata": {},
   "outputs": [
    {
     "name": "stderr",
     "output_type": "stream",
     "text": [
      "C:\\Program Files\\Python312\\Lib\\site-packages\\torchxrayvision\\utils.py:11: TqdmExperimentalWarning: Using `tqdm.autonotebook.tqdm` in notebook mode. Use `tqdm.tqdm` instead to force console mode (e.g. in jupyter console)\n",
      "  from tqdm.autonotebook import tqdm\n"
     ]
    }
   ],
   "source": [
    "import torchxrayvision as xrv"
   ]
  },
  {
   "cell_type": "code",
   "execution_count": 3,
   "id": "4a4aeb7a-1a01-4c46-a420-0799386fa8cc",
   "metadata": {},
   "outputs": [],
   "source": [
    "d = xrv.datasets.COVID19_Dataset(imgpath=\"data/images/\", csvpath=\"data/csv/metadata.csv\")"
   ]
  },
  {
   "cell_type": "code",
   "execution_count": 4,
   "id": "5a35e671-4bba-4ba9-9075-c2ca41dad02c",
   "metadata": {},
   "outputs": [
    {
     "name": "stdout",
     "output_type": "stream",
     "text": [
      "sample image of shape (888, 882)\n",
      "dataset of length 535\n",
      "[[1024.      1015.9686  1007.93726 ... -469.83527 -477.86664 -477.86664]\n",
      " [1024.      1024.      1015.9686  ... -493.92938 -493.92938 -493.92938]\n",
      " [1024.      1024.      1015.9686  ... -501.96075 -509.99213 -509.99213]\n",
      " ...\n",
      " [1024.      1024.       983.84314 ... -172.6745  -156.61176 -148.58038]\n",
      " [1024.      1024.       983.84314 ... -252.98822 -244.95685 -244.95685]\n",
      " [1024.      1024.       983.84314 ... -437.70978 -429.6784  -421.64703]]\n"
     ]
    }
   ],
   "source": [
    "img = d[0]['img'][0]\n",
    "print(f\"sample image of shape {img.shape}\")\n",
    "print(f\"dataset of length {len(d)}\")\n",
    "print(img)"
   ]
  },
  {
   "cell_type": "markdown",
   "id": "88cc4c77-27ad-43f3-9ae7-6de3d6bbff2b",
   "metadata": {},
   "source": [
    "##### Dataloader"
   ]
  },
  {
   "cell_type": "code",
   "execution_count": 4,
   "id": "b76af362-3008-44f3-b7bf-708456c4e46a",
   "metadata": {},
   "outputs": [],
   "source": [
    "from dataLoader import *\n",
    "from torch.utils.data import DataLoader"
   ]
  },
  {
   "cell_type": "code",
   "execution_count": 2,
   "id": "f6d84b94-0153-4f41-9d82-a24252ef0cc9",
   "metadata": {},
   "outputs": [
    {
     "name": "stdout",
     "output_type": "stream",
     "text": [
      "Shape of X_train is (321, 1, 224, 224). Shape of ytrain is (321, 1)\n",
      "Shape of X_test is (214, 1, 224, 224). Shape of ytest is (214, 1)\n"
     ]
    }
   ],
   "source": [
    "train_dataset = Covid19DataSet(transform = ToTensor(), train = True)\n",
    "test_dataset = Covid19DataSet(transform = ToTensor(), train = False)"
   ]
  },
  {
   "cell_type": "code",
   "execution_count": 5,
   "id": "0d1c0dfa-c1ba-4c89-8979-3abd68406f5b",
   "metadata": {},
   "outputs": [],
   "source": [
    "batch_size = 16\n",
    "train_loader = DataLoader(dataset = train_dataset, batch_size = batch_size, shuffle = True)\n",
    "test_loader = DataLoader(dataset = test_dataset, batch_size = batch_size, shuffle = True)"
   ]
  },
  {
   "cell_type": "code",
   "execution_count": 6,
   "id": "3a6a44f5-f3d1-4f88-8b08-4c7bfd7e120c",
   "metadata": {},
   "outputs": [],
   "source": [
    "train_iter = iter(train_loader)\n",
    "test_iter = iter(test_loader)"
   ]
  },
  {
   "cell_type": "code",
   "execution_count": 7,
   "id": "8d089b24-1c11-4087-bf9a-a511477f71d3",
   "metadata": {},
   "outputs": [
    {
     "name": "stdout",
     "output_type": "stream",
     "text": [
      "torch.Size([16, 1, 224, 224]) torch.Size([16, 1]) torch.Size([16, 1, 224, 224]) torch.Size([16, 1])\n"
     ]
    }
   ],
   "source": [
    "train_samples, train_labels = next(train_iter)\n",
    "test_samples, test_labels = next(test_iter)\n",
    "print(train_samples.shape, train_labels.shape, test_samples.shape, test_labels.shape)"
   ]
  },
  {
   "cell_type": "markdown",
   "id": "bd6344a3-3de7-4c22-9297-7755e5385475",
   "metadata": {},
   "source": [
    "##### Building of model"
   ]
  },
  {
   "cell_type": "code",
   "execution_count": 8,
   "id": "fa55d2da-a081-4b63-a232-938dd10e41ff",
   "metadata": {},
   "outputs": [],
   "source": [
    "from models import *"
   ]
  },
  {
   "cell_type": "code",
   "execution_count": 10,
   "id": "d06e01d5-8fe4-45f9-9b31-5741eba7007d",
   "metadata": {},
   "outputs": [],
   "source": [
    "model = ConvNet()"
   ]
  },
  {
   "cell_type": "markdown",
   "id": "b75b9d9f-b6c8-4863-b99d-2457178d706c",
   "metadata": {},
   "source": [
    "##### Training Model"
   ]
  },
  {
   "cell_type": "code",
   "execution_count": 11,
   "id": "d4801a51-b221-44b4-8f2f-8bea98e76bd2",
   "metadata": {},
   "outputs": [
    {
     "name": "stdout",
     "output_type": "stream",
     "text": [
      "Training model...\n",
      "Epoch [1/10], Loss: 0.6603\n",
      "Epoch [2/10], Loss: 0.6583\n",
      "Epoch [3/10], Loss: 0.6744\n",
      "Epoch [4/10], Loss: 0.6472\n",
      "Epoch [5/10], Loss: 0.6302\n",
      "Epoch [6/10], Loss: 0.6279\n",
      "Epoch [7/10], Loss: 0.6118\n",
      "Epoch [8/10], Loss: 0.5791\n",
      "Epoch [9/10], Loss: 0.6063\n",
      "Epoch [10/10], Loss: 0.5853\n",
      "Done!\n"
     ]
    }
   ],
   "source": [
    "epochs = 10\n",
    "train_model(model, train_loader, epochs)"
   ]
  },
  {
   "cell_type": "markdown",
   "id": "99370c54-0e53-47dc-9df3-0b9326b70116",
   "metadata": {},
   "source": [
    "##### Evaluation"
   ]
  },
  {
   "cell_type": "code",
   "execution_count": 12,
   "id": "f7167f7c-bc2e-48dc-a8a1-b3b0a0de7de6",
   "metadata": {},
   "outputs": [
    {
     "name": "stdout",
     "output_type": "stream",
     "text": [
      "Precision: 0.677570093457944 . Recall: 1.0\n"
     ]
    }
   ],
   "source": [
    "evaluate_model(model, test_loader)"
   ]
  },
  {
   "cell_type": "code",
   "execution_count": null,
   "id": "a028969c-17c1-4561-b4a2-501dcadd32f1",
   "metadata": {},
   "outputs": [],
   "source": []
  }
 ],
 "metadata": {
  "kernelspec": {
   "display_name": "xrayenv",
   "language": "python",
   "name": "xrayenv"
  },
  "language_info": {
   "codemirror_mode": {
    "name": "ipython",
    "version": 3
   },
   "file_extension": ".py",
   "mimetype": "text/x-python",
   "name": "python",
   "nbconvert_exporter": "python",
   "pygments_lexer": "ipython3",
   "version": "3.12.6"
  }
 },
 "nbformat": 4,
 "nbformat_minor": 5
}
