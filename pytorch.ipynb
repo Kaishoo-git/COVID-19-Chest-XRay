{
 "cells": [
  {
   "cell_type": "markdown",
   "id": "7166b835-c780-4e68-bb10-4677dfa0249f",
   "metadata": {
    "jp-MarkdownHeadingCollapsed": true
   },
   "source": [
    "##### EDA"
   ]
  },
  {
   "cell_type": "code",
   "execution_count": 2,
   "id": "201387d4-868d-40ad-83e4-bdbe6820b8ef",
   "metadata": {},
   "outputs": [
    {
     "name": "stderr",
     "output_type": "stream",
     "text": [
      "C:\\Program Files\\Python312\\Lib\\site-packages\\torchxrayvision\\utils.py:11: TqdmExperimentalWarning: Using `tqdm.autonotebook.tqdm` in notebook mode. Use `tqdm.tqdm` instead to force console mode (e.g. in jupyter console)\n",
      "  from tqdm.autonotebook import tqdm\n"
     ]
    }
   ],
   "source": [
    "import torchxrayvision as xrv"
   ]
  },
  {
   "cell_type": "code",
   "execution_count": 3,
   "id": "4a4aeb7a-1a01-4c46-a420-0799386fa8cc",
   "metadata": {},
   "outputs": [],
   "source": [
    "d = xrv.datasets.COVID19_Dataset(imgpath=\"data/images/\", csvpath=\"data/csv/metadata.csv\")"
   ]
  },
  {
   "cell_type": "code",
   "execution_count": 4,
   "id": "5a35e671-4bba-4ba9-9075-c2ca41dad02c",
   "metadata": {},
   "outputs": [
    {
     "name": "stdout",
     "output_type": "stream",
     "text": [
      "sample image of shape (888, 882)\n",
      "dataset of length 535\n",
      "[[1024.      1015.9686  1007.93726 ... -469.83527 -477.86664 -477.86664]\n",
      " [1024.      1024.      1015.9686  ... -493.92938 -493.92938 -493.92938]\n",
      " [1024.      1024.      1015.9686  ... -501.96075 -509.99213 -509.99213]\n",
      " ...\n",
      " [1024.      1024.       983.84314 ... -172.6745  -156.61176 -148.58038]\n",
      " [1024.      1024.       983.84314 ... -252.98822 -244.95685 -244.95685]\n",
      " [1024.      1024.       983.84314 ... -437.70978 -429.6784  -421.64703]]\n"
     ]
    }
   ],
   "source": [
    "img = d[0]['img'][0]\n",
    "print(f\"sample image of shape {img.shape}\")\n",
    "print(f\"dataset of length {len(d)}\")\n",
    "print(img)"
   ]
  },
  {
   "cell_type": "markdown",
   "id": "88cc4c77-27ad-43f3-9ae7-6de3d6bbff2b",
   "metadata": {},
   "source": [
    "##### Dataloader"
   ]
  },
  {
   "cell_type": "code",
   "execution_count": 1,
   "id": "b76af362-3008-44f3-b7bf-708456c4e46a",
   "metadata": {},
   "outputs": [
    {
     "name": "stderr",
     "output_type": "stream",
     "text": [
      "C:\\Users\\Hoo Kai Sng\\OneDrive - National University of Singapore\\Documents\\NUS\\CS3244\\Project\\xrayenv\\Lib\\site-packages\\torchxrayvision\\utils.py:11: TqdmExperimentalWarning: Using `tqdm.autonotebook.tqdm` in notebook mode. Use `tqdm.tqdm` instead to force console mode (e.g. in jupyter console)\n",
      "  from tqdm.autonotebook import tqdm\n"
     ]
    }
   ],
   "source": [
    "from dataLoader import *\n",
    "from torch.utils.data import DataLoader"
   ]
  },
  {
   "cell_type": "code",
   "execution_count": 2,
   "id": "f6d84b94-0153-4f41-9d82-a24252ef0cc9",
   "metadata": {},
   "outputs": [],
   "source": [
    "train_dataset = Covid19DataSet('train', transform = 'vanilla')\n",
    "augmented_dataset = Covid19DataSet('train', transform = 'augment')\n",
    "validation_dataset = Covid19DataSet('val', transform = 'vanilla')\n",
    "test_dataset = Covid19DataSet('test', transform = 'vanilla')"
   ]
  },
  {
   "cell_type": "code",
   "execution_count": 3,
   "id": "0d1c0dfa-c1ba-4c89-8979-3abd68406f5b",
   "metadata": {},
   "outputs": [],
   "source": [
    "BATCH_SIZE = 16\n",
    "train_loader = DataLoader(dataset = train_dataset, batch_size = BATCH_SIZE, shuffle = True, num_workers = 4)\n",
    "validation_loader = DataLoader(dataset = validation_dataset, batch_size = BATCH_SIZE, shuffle = False, num_workers = 4)\n",
    "test_loader = DataLoader(dataset = test_dataset, batch_size = BATCH_SIZE, shuffle = False, num_workers = 4)"
   ]
  },
  {
   "cell_type": "markdown",
   "id": "bd6344a3-3de7-4c22-9297-7755e5385475",
   "metadata": {},
   "source": [
    "##### Building of model"
   ]
  },
  {
   "cell_type": "code",
   "execution_count": 4,
   "id": "fa55d2da-a081-4b63-a232-938dd10e41ff",
   "metadata": {},
   "outputs": [],
   "source": [
    "from models import *"
   ]
  },
  {
   "cell_type": "code",
   "execution_count": 5,
   "id": "d06e01d5-8fe4-45f9-9b31-5741eba7007d",
   "metadata": {},
   "outputs": [],
   "source": [
    "model_11 = ConvNet()"
   ]
  },
  {
   "cell_type": "code",
   "execution_count": 6,
   "id": "a0e477d0-93e0-4bfb-9663-a6cd36e1fc32",
   "metadata": {},
   "outputs": [],
   "source": [
    "model_12 = ConvNet()"
   ]
  },
  {
   "cell_type": "code",
   "execution_count": 7,
   "id": "140708f1-37cf-4335-8d22-b8169070ccf0",
   "metadata": {},
   "outputs": [],
   "source": [
    "model_21 = ConvNetGlobPooling()"
   ]
  },
  {
   "cell_type": "code",
   "execution_count": 8,
   "id": "ad06203a-906e-4c2a-94bf-d5ab254a6732",
   "metadata": {},
   "outputs": [],
   "source": [
    "model_22 = ConvNetGlobPooling()"
   ]
  },
  {
   "cell_type": "markdown",
   "id": "b75b9d9f-b6c8-4863-b99d-2457178d706c",
   "metadata": {},
   "source": [
    "##### Training Model"
   ]
  },
  {
   "cell_type": "code",
   "execution_count": 11,
   "id": "a2c0a3bb-f7dc-49f0-8754-86a942d3d215",
   "metadata": {},
   "outputs": [],
   "source": [
    "from evaluation import *"
   ]
  },
  {
   "cell_type": "code",
   "execution_count": 12,
   "id": "540b4752-3cee-47a1-a0fa-3785fccaf7f6",
   "metadata": {},
   "outputs": [],
   "source": [
    "# Training for a default of 25 epochs"
   ]
  },
  {
   "cell_type": "code",
   "execution_count": 13,
   "id": "27e0d55c-349c-4dae-acea-34fd8a8aa810",
   "metadata": {},
   "outputs": [
    {
     "name": "stdout",
     "output_type": "stream",
     "text": [
      "Training model...\n",
      "Epoch [1/5] | Metric Val: 0.7757 | Epoch Loss: 12.8016\n",
      "Epoch [2/5] | Metric Val: 0.7757 | Epoch Loss: 12.3200\n",
      "Epoch [3/5] | Metric Val: 0.7757 | Epoch Loss: 12.8012\n",
      "Epoch [4/5] | Metric Val: 0.7757 | Epoch Loss: 12.3199\n",
      "Epoch [5/5] | Metric Val: 0.7757 | Epoch Loss: 12.3201\n",
      "Training completed in 9mins 27s\n",
      "Best validation: 0.7757009345794392\n"
     ]
    },
    {
     "data": {
      "text/plain": [
       "ConvNetGlobPooling(\n",
       "  (conv1): Conv2d(1, 8, kernel_size=(5, 5), stride=(1, 1))\n",
       "  (pool): MaxPool2d(kernel_size=4, stride=4, padding=0, dilation=1, ceil_mode=False)\n",
       "  (conv2): Conv2d(8, 16, kernel_size=(5, 5), stride=(1, 1))\n",
       "  (global_avg_pool): AdaptiveAvgPool2d(output_size=1)\n",
       "  (fc1): Linear(in_features=16, out_features=128, bias=True)\n",
       "  (fc2): Linear(in_features=128, out_features=64, bias=True)\n",
       "  (fc3): Linear(in_features=64, out_features=1, bias=True)\n",
       ")"
      ]
     },
     "execution_count": 13,
     "metadata": {},
     "output_type": "execute_result"
    }
   ],
   "source": [
    "train_model(model_21, train_loader, validation_loader)"
   ]
  },
  {
   "cell_type": "code",
   "execution_count": 14,
   "id": "e8fccfa4-6dba-4da6-8229-c27484a08c70",
   "metadata": {},
   "outputs": [
    {
     "name": "stdout",
     "output_type": "stream",
     "text": [
      "Training model...\n",
      "Epoch [1/5] | Metric Val: 0.7757 | Epoch Loss: 12.7962\n",
      "Epoch [2/5] | Metric Val: 0.7757 | Epoch Loss: 12.3128\n",
      "Epoch [3/5] | Metric Val: 0.7757 | Epoch Loss: 12.3123\n",
      "Epoch [4/5] | Metric Val: 0.7757 | Epoch Loss: 12.3127\n",
      "Epoch [5/5] | Metric Val: 0.7757 | Epoch Loss: 12.3129\n",
      "Training completed in 9mins 19s\n",
      "Best validation: 0.7757009345794392\n"
     ]
    },
    {
     "data": {
      "text/plain": [
       "ConvNetGlobPooling(\n",
       "  (conv1): Conv2d(1, 8, kernel_size=(5, 5), stride=(1, 1))\n",
       "  (pool): MaxPool2d(kernel_size=4, stride=4, padding=0, dilation=1, ceil_mode=False)\n",
       "  (conv2): Conv2d(8, 16, kernel_size=(5, 5), stride=(1, 1))\n",
       "  (global_avg_pool): AdaptiveAvgPool2d(output_size=1)\n",
       "  (fc1): Linear(in_features=16, out_features=128, bias=True)\n",
       "  (fc2): Linear(in_features=128, out_features=64, bias=True)\n",
       "  (fc3): Linear(in_features=64, out_features=1, bias=True)\n",
       ")"
      ]
     },
     "execution_count": 14,
     "metadata": {},
     "output_type": "execute_result"
    }
   ],
   "source": [
    "train_model(model_22, train_loader, validation_loader)"
   ]
  },
  {
   "cell_type": "markdown",
   "id": "99370c54-0e53-47dc-9df3-0b9326b70116",
   "metadata": {},
   "source": [
    "##### Evaluation"
   ]
  },
  {
   "cell_type": "code",
   "execution_count": 15,
   "id": "f7167f7c-bc2e-48dc-a8a1-b3b0a0de7de6",
   "metadata": {},
   "outputs": [
    {
     "name": "stdout",
     "output_type": "stream",
     "text": [
      "model 2.1: Precision = 78% | Recall = 100%\n"
     ]
    }
   ],
   "source": [
    "metric_21_prec = evaluate_model(model_21, test_loader, 'prec') * 100\n",
    "metric_21_rec = evaluate_model(model_21, test_loader, 'rec') * 100\n",
    "print(f\"model 2.1: Precision = {metric_21_prec:.0f}% | Recall = {metric_21_rec:.0f}%\")"
   ]
  },
  {
   "cell_type": "code",
   "execution_count": null,
   "id": "a028969c-17c1-4561-b4a2-501dcadd32f1",
   "metadata": {},
   "outputs": [],
   "source": [
    "metric_22_prec = evaluate_model(model_21, test_loader, 'prec') * 100\n",
    "metric_22_rec = evaluate_model(model_22, test_loader, 'rec') * 100\n",
    "print(f\"model 2.2: Precision = {metric_21_prec:.0f}% | Recall = {metric_21_rec:.0f}%\")"
   ]
  },
  {
   "cell_type": "code",
   "execution_count": null,
   "id": "5da2327f-ff6e-4d84-9a95-b76f3e6116f6",
   "metadata": {},
   "outputs": [],
   "source": []
  }
 ],
 "metadata": {
  "kernelspec": {
   "display_name": "xrayenv",
   "language": "python",
   "name": "xrayenv"
  },
  "language_info": {
   "codemirror_mode": {
    "name": "ipython",
    "version": 3
   },
   "file_extension": ".py",
   "mimetype": "text/x-python",
   "name": "python",
   "nbconvert_exporter": "python",
   "pygments_lexer": "ipython3",
   "version": "3.12.6"
  }
 },
 "nbformat": 4,
 "nbformat_minor": 5
}
