{
 "cells": [
  {
   "cell_type": "markdown",
   "id": "7166b835-c780-4e68-bb10-4677dfa0249f",
   "metadata": {
    "jp-MarkdownHeadingCollapsed": true
   },
   "source": [
    "##### EDA"
   ]
  },
  {
   "cell_type": "code",
   "execution_count": 2,
   "id": "201387d4-868d-40ad-83e4-bdbe6820b8ef",
   "metadata": {},
   "outputs": [
    {
     "name": "stderr",
     "output_type": "stream",
     "text": [
      "C:\\Program Files\\Python312\\Lib\\site-packages\\torchxrayvision\\utils.py:11: TqdmExperimentalWarning: Using `tqdm.autonotebook.tqdm` in notebook mode. Use `tqdm.tqdm` instead to force console mode (e.g. in jupyter console)\n",
      "  from tqdm.autonotebook import tqdm\n"
     ]
    }
   ],
   "source": [
    "import torchxrayvision as xrv"
   ]
  },
  {
   "cell_type": "code",
   "execution_count": 3,
   "id": "4a4aeb7a-1a01-4c46-a420-0799386fa8cc",
   "metadata": {},
   "outputs": [],
   "source": [
    "d = xrv.datasets.COVID19_Dataset(imgpath=\"data/images/\", csvpath=\"data/csv/metadata.csv\")"
   ]
  },
  {
   "cell_type": "code",
   "execution_count": 4,
   "id": "5a35e671-4bba-4ba9-9075-c2ca41dad02c",
   "metadata": {},
   "outputs": [
    {
     "name": "stdout",
     "output_type": "stream",
     "text": [
      "sample image of shape (888, 882)\n",
      "dataset of length 535\n",
      "[[1024.      1015.9686  1007.93726 ... -469.83527 -477.86664 -477.86664]\n",
      " [1024.      1024.      1015.9686  ... -493.92938 -493.92938 -493.92938]\n",
      " [1024.      1024.      1015.9686  ... -501.96075 -509.99213 -509.99213]\n",
      " ...\n",
      " [1024.      1024.       983.84314 ... -172.6745  -156.61176 -148.58038]\n",
      " [1024.      1024.       983.84314 ... -252.98822 -244.95685 -244.95685]\n",
      " [1024.      1024.       983.84314 ... -437.70978 -429.6784  -421.64703]]\n"
     ]
    }
   ],
   "source": [
    "img = d[0]['img'][0]\n",
    "print(f\"sample image of shape {img.shape}\")\n",
    "print(f\"dataset of length {len(d)}\")\n",
    "print(img)"
   ]
  },
  {
   "cell_type": "markdown",
   "id": "88cc4c77-27ad-43f3-9ae7-6de3d6bbff2b",
   "metadata": {},
   "source": [
    "##### Dataloader"
   ]
  },
  {
   "cell_type": "code",
   "execution_count": 1,
   "id": "b76af362-3008-44f3-b7bf-708456c4e46a",
   "metadata": {},
   "outputs": [
    {
     "name": "stderr",
     "output_type": "stream",
     "text": [
      "C:\\Users\\Hoo Kai Sng\\OneDrive - National University of Singapore\\Documents\\NUS\\CS3244\\Project\\xrayenv\\Lib\\site-packages\\torchxrayvision\\utils.py:11: TqdmExperimentalWarning: Using `tqdm.autonotebook.tqdm` in notebook mode. Use `tqdm.tqdm` instead to force console mode (e.g. in jupyter console)\n",
      "  from tqdm.autonotebook import tqdm\n"
     ]
    }
   ],
   "source": [
    "from dataLoader import *\n",
    "from torch.utils.data import DataLoader"
   ]
  },
  {
   "cell_type": "code",
   "execution_count": 2,
   "id": "f6d84b94-0153-4f41-9d82-a24252ef0cc9",
   "metadata": {},
   "outputs": [
    {
     "name": "stdout",
     "output_type": "stream",
     "text": [
      "Shape of X_train is (321, 1, 224, 224). Shape of ytrain is (321, 1)\n",
      "Shape of X_test is (214, 1, 224, 224). Shape of ytest is (214, 1)\n",
      "Shape of X_train is (321, 1, 224, 224). Shape of ytrain is (321, 1)\n",
      "Shape of X_test is (214, 1, 224, 224). Shape of ytest is (214, 1)\n"
     ]
    }
   ],
   "source": [
    "train_dataset = Covid19DataSet(transform = ToTensor(), train = True)\n",
    "test_dataset = Covid19DataSet(transform = ToTensor(), train = False)"
   ]
  },
  {
   "cell_type": "code",
   "execution_count": 3,
   "id": "0d1c0dfa-c1ba-4c89-8979-3abd68406f5b",
   "metadata": {},
   "outputs": [],
   "source": [
    "batch_size = 16\n",
    "train_loader = DataLoader(dataset = train_dataset, batch_size = batch_size, shuffle = True)\n",
    "test_loader = DataLoader(dataset = test_dataset, batch_size = batch_size, shuffle = True)"
   ]
  },
  {
   "cell_type": "code",
   "execution_count": 4,
   "id": "3a6a44f5-f3d1-4f88-8b08-4c7bfd7e120c",
   "metadata": {},
   "outputs": [],
   "source": [
    "train_iter = iter(train_loader)\n",
    "test_iter = iter(test_loader)"
   ]
  },
  {
   "cell_type": "code",
   "execution_count": 5,
   "id": "8d089b24-1c11-4087-bf9a-a511477f71d3",
   "metadata": {},
   "outputs": [
    {
     "name": "stdout",
     "output_type": "stream",
     "text": [
      "torch.Size([16, 1, 224, 224]) torch.Size([16, 1]) torch.Size([16, 1, 224, 224]) torch.Size([16, 1])\n"
     ]
    }
   ],
   "source": [
    "train_samples, train_labels = next(train_iter)\n",
    "test_samples, test_labels = next(test_iter)\n",
    "print(train_samples.shape, train_labels.shape, test_samples.shape, test_labels.shape)"
   ]
  },
  {
   "cell_type": "markdown",
   "id": "bd6344a3-3de7-4c22-9297-7755e5385475",
   "metadata": {},
   "source": [
    "##### Building of model"
   ]
  },
  {
   "cell_type": "code",
   "execution_count": null,
   "id": "fa55d2da-a081-4b63-a232-938dd10e41ff",
   "metadata": {},
   "outputs": [],
   "source": [
    "from models import *"
   ]
  },
  {
   "cell_type": "code",
   "execution_count": 149,
   "id": "7f48e559-5289-450d-9963-0864cb8479c2",
   "metadata": {},
   "outputs": [],
   "source": [
    "import torch\n",
    "import torch.nn as nn\n",
    "import torch.nn.functional as F\n",
    "import numpy as np\n",
    "\n",
    "class ConvNet(nn.Module):\n",
    "\n",
    "    def __init__(self):\n",
    "        super(ConvNet, self).__init__()\n",
    "        self.conv1 = nn.Conv2d(1, 8, 5)\n",
    "        self.pool = nn.MaxPool2d(4, 4)\n",
    "        self.conv2 = nn.Conv2d(8, 16, 5)\n",
    "\n",
    "        self.fc1 = nn.Linear(16 * 12 * 12, 576)\n",
    "        self.fc2 = nn.Linear(576, 128)\n",
    "        self.fc3 = nn.Linear(128, 1)\n",
    "    \n",
    "    def forward(self, x):\n",
    "        x = self.pool(F.relu(self.conv1(x)))\n",
    "        x = self.pool(F.relu(self.conv2(x)))\n",
    "        x = x.view(-1, 16 * 12 * 12)\n",
    "        x = F.relu(self.fc1(x))\n",
    "        x = F.relu(self.fc2(x))\n",
    "        x = self.fc3(x)\n",
    "        return x\n",
    "\n",
    "def train_model(model, train_loader, epochs, learning_rate = 0.001, criterion = nn.BCEWithLogitsLoss()):\n",
    "    optimizer = torch.optim.Adam(model.parameters(), lr = learning_rate)\n",
    "    \n",
    "    print(\"Training model...\")\n",
    "    model.train()\n",
    "    for epoch in range(epochs):\n",
    "        total_loss, count = 0, 0\n",
    "        for i, (images, labels) in enumerate(train_loader):\n",
    "            count += 1\n",
    "            # forward pass\n",
    "            y_preds = model(images)\n",
    "            loss = criterion(y_preds, labels)\n",
    "            total_loss += loss.item()\n",
    "\n",
    "            # backward prop\n",
    "            optimizer.zero_grad()\n",
    "            loss.backward()\n",
    "            optimizer.step()\n",
    "            \n",
    "        avg_loss = total_loss / count \n",
    "        print(f\"Epoch [{epoch+1}/{epochs}], Loss: {avg_loss:.4f}\")\n",
    "        \n",
    "    print(\"Done!\")\n",
    "    \n",
    "\n",
    "def evaluate_model(model, test_loader):\n",
    "    with torch.no_grad():\n",
    "        tp = tn = fp = fn = 0\n",
    "        for image, label in test_loader:\n",
    "            output = model(image)\n",
    "\n",
    "            y_pred = (torch.sigmoid(output) >= 0.5).float()\n",
    "            n = len(y_pred)\n",
    "            for i in range(n):\n",
    "                pred_val, label_val = y_pred[i].item(), label[i].item()\n",
    "                tp += (pred_val == label_val == 1)\n",
    "                tn += (pred_val == label_val == 0)\n",
    "                fp += (pred_val == 1 and label_val == 0)\n",
    "                fn += (pred_val == 0 and label_val == 1)\n",
    "    recall = tp / (tp + fn)\n",
    "    precision = tp / (tp + fp)\n",
    "    print(f\"Precision: {precision} . Recall: {recall}\")\n",
    "\n"
   ]
  },
  {
   "cell_type": "code",
   "execution_count": 123,
   "id": "d06e01d5-8fe4-45f9-9b31-5741eba7007d",
   "metadata": {},
   "outputs": [],
   "source": [
    "model = ConvNet()"
   ]
  },
  {
   "cell_type": "markdown",
   "id": "b75b9d9f-b6c8-4863-b99d-2457178d706c",
   "metadata": {},
   "source": [
    "##### Training Model"
   ]
  },
  {
   "cell_type": "code",
   "execution_count": 124,
   "id": "d4801a51-b221-44b4-8f2f-8bea98e76bd2",
   "metadata": {},
   "outputs": [
    {
     "name": "stdout",
     "output_type": "stream",
     "text": [
      "Training model...\n",
      "Epoch [1/10], Loss: 3.1032\n",
      "Epoch [2/10], Loss: 0.6451\n",
      "Epoch [3/10], Loss: 0.5790\n",
      "Epoch [4/10], Loss: 0.5633\n",
      "Epoch [5/10], Loss: 0.5075\n",
      "Epoch [6/10], Loss: 0.4489\n",
      "Epoch [7/10], Loss: 0.4802\n",
      "Epoch [8/10], Loss: 0.3598\n",
      "Epoch [9/10], Loss: 0.3577\n",
      "Epoch [10/10], Loss: 0.2929\n",
      "Done!\n"
     ]
    }
   ],
   "source": [
    "epochs = 10\n",
    "train_model(model, train_loader, epochs)"
   ]
  },
  {
   "cell_type": "markdown",
   "id": "99370c54-0e53-47dc-9df3-0b9326b70116",
   "metadata": {},
   "source": [
    "##### Evaluation"
   ]
  },
  {
   "cell_type": "code",
   "execution_count": 150,
   "id": "f7167f7c-bc2e-48dc-a8a1-b3b0a0de7de6",
   "metadata": {},
   "outputs": [
    {
     "name": "stdout",
     "output_type": "stream",
     "text": [
      "Precision: 0.6838709677419355 . Recall: 0.8153846153846154\n"
     ]
    }
   ],
   "source": [
    "evaluate_model(model, test_loader)"
   ]
  },
  {
   "cell_type": "code",
   "execution_count": null,
   "id": "a028969c-17c1-4561-b4a2-501dcadd32f1",
   "metadata": {},
   "outputs": [],
   "source": []
  }
 ],
 "metadata": {
  "kernelspec": {
   "display_name": "xrayenv",
   "language": "python",
   "name": "xrayenv"
  },
  "language_info": {
   "codemirror_mode": {
    "name": "ipython",
    "version": 3
   },
   "file_extension": ".py",
   "mimetype": "text/x-python",
   "name": "python",
   "nbconvert_exporter": "python",
   "pygments_lexer": "ipython3",
   "version": "3.12.6"
  }
 },
 "nbformat": 4,
 "nbformat_minor": 5
}
