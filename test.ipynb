{
 "cells": [
  {
   "cell_type": "code",
   "execution_count": null,
   "metadata": {},
   "outputs": [],
   "source": [
    "# If you would like to build from scratch. \n",
    "\n",
    "from modules.exploration import explore_data, show_image    # For EDA, not needed\n",
    "from modules.preprocess import get_data, stratified_split, process_all    # For preprocessing (Already done, can just call from data/preprocessed)\n",
    "from modules.datasets import Covid19DataSet    # (Already done, can just call from data/preprocessed)\n",
    "from modules.models import get_model    # Create a fresh model\n",
    "from modules.training import train_model, get_metrics    # For training and testing model\n",
    "from modules.metrics import plot_roc_auc    # , create_table, plot_loss_and_metric"
   ]
  }
 ],
 "metadata": {
  "kernelspec": {
   "display_name": "xrayenv",
   "language": "python",
   "name": "xrayenv"
  },
  "language_info": {
   "codemirror_mode": {
    "name": "ipython",
    "version": 3
   },
   "file_extension": ".py",
   "mimetype": "text/x-python",
   "name": "python",
   "nbconvert_exporter": "python",
   "pygments_lexer": "ipython3",
   "version": "3.12.6"
  }
 },
 "nbformat": 4,
 "nbformat_minor": 4
}
